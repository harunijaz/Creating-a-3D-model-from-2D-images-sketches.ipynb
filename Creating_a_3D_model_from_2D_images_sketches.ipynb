{
  "nbformat": 4,
  "nbformat_minor": 0,
  "metadata": {
    "colab": {
      "provenance": []
    },
    "kernelspec": {
      "name": "python3",
      "display_name": "Python 3"
    },
    "language_info": {
      "name": "python"
    }
  },
  "cells": [
    {
      "cell_type": "code",
      "execution_count": 43,
      "metadata": {
        "id": "5Ps3A_8LHSbg"
      },
      "outputs": [],
      "source": [
        "import cv2\n",
        "import numpy as np\n",
        "from matplotlib import pyplot as plt"
      ]
    },
    {
      "cell_type": "code",
      "source": [
        "# read the image\n",
        "img = cv2.imread('img.png')\n",
        "\n",
        "# convert image to gray scale image\n",
        "gray = cv2.cvtColor(img, cv2.COLOR_BGR2GRAY)\n",
        "\n",
        "# detect corners with the goodFeaturesToTrack function\n",
        "corners = cv2.goodFeaturesToTrack(gray, 28, 0.04, 10)\n",
        "corners = np.int0(corners)\n",
        "print(gray.shape)\n",
        "print(corners.shape)\n",
        "\n",
        "\n",
        "# we iterate through each corner, \n",
        "# making a circle at each point that we think is a corner\n",
        "for i in corners:\n",
        "  x, y = i.ravel()\n",
        "  cv2.circle(img, (x, y), 7, 255, -1)\n",
        "  #print(x, y)\n",
        "\n",
        "plt.imshow(img), plt.show()\n"
      ],
      "metadata": {
        "colab": {
          "base_uri": "https://localhost:8080/",
          "height": 323
        },
        "id": "oeKFqssT6iys",
        "outputId": "4b2a02b2-a031-4097-af06-99d1a5dd76e1"
      },
      "execution_count": 47,
      "outputs": [
        {
          "output_type": "stream",
          "name": "stdout",
          "text": [
            "(519, 506)\n",
            "(28, 1, 2)\n"
          ]
        },
        {
          "output_type": "display_data",
          "data": {
            "text/plain": [
              "<Figure size 432x288 with 1 Axes>"
            ],
            "image/png": "[encoded data removed]"
          },
          "metadata": {
            "needs_background": "light"
          }
        },
        {
          "output_type": "execute_result",
          "data": {
            "text/plain": [
              "(<matplotlib.image.AxesImage at 0x7f30bfa2c040>, None)"
            ]
          },
          "metadata": {},
          "execution_count": 47
        }
      ]
    },
    {
      "cell_type": "markdown",
      "source": [
        "Generate 3D mesh. Separate these 6 parts/faces from the image"
      ],
      "metadata": {
        "id": "QsGQpF8C_tP9"
      }
    },
    {
      "cell_type": "code",
      "source": [
        "!pip3 install numpy-stl\n",
        "from stl import mesh"
      ],
      "metadata": {
        "id": "tO43gF35ADfX",
        "colab": {
          "base_uri": "https://localhost:8080/"
        },
        "outputId": "27283782-e458-479d-a1d6-2ce46460b507"
      },
      "execution_count": 48,
      "outputs": [
        {
          "output_type": "stream",
          "name": "stdout",
          "text": [
            "Looking in indexes: https://pypi.org/simple, https://us-python.pkg.dev/colab-wheels/public/simple/\n",
            "Requirement already satisfied: numpy-stl in /usr/local/lib/python3.8/dist-packages (3.0.0)\n",
            "Requirement already satisfied: python-utils>=3.4.5 in /usr/local/lib/python3.8/dist-packages (from numpy-stl) (3.4.5)\n",
            "Requirement already satisfied: numpy in /usr/local/lib/python3.8/dist-packages (from numpy-stl) (1.21.6)\n"
          ]
        }
      ]
    },
    {
      "cell_type": "code",
      "source": [
        "vertices_set_01=np.array([\\\n",
        "    [313,94,100],\n",
        "    [103,94,100],\n",
        "    [313,47,100],\n",
        "    [103,47,100] \n",
        "])\n",
        "# Define the 2 triangles composing the first face\n",
        "faces_1 = np.array([\\\n",
        "    [0,2,1],\n",
        "    [1,2,3]])\n",
        "\n",
        "# Create the mesh\n",
        "cube = mesh.Mesh(np.zeros(faces_1.shape[0], dtype=mesh.Mesh.dtype))\n",
        "for i, f in enumerate(faces_1):\n",
        "    for j in range(3):\n",
        "        cube.vectors[i][j] = vertices_set_01[f[j],:]\n",
        "\n",
        "# Write the mesh to file \"faces_01.stl\"\n",
        "cube.save('faces_01.stl')\n"
      ],
      "metadata": {
        "id": "f1fA0Ukb_xYZ"
      },
      "execution_count": 13,
      "outputs": []
    },
    {
      "cell_type": "code",
      "source": [
        "vertices_set_02=np.array([\\\n",
        "    [326,670,100],\n",
        "    [265,670,100],\n",
        "    [326,495,100],\n",
        "    [265,495,100] \n",
        "])\n",
        "# Define the 2 triangles composing the first face\n",
        "faces_2 = np.array([\\\n",
        "    [0,2,1],\n",
        "    [1,2,3]])\n",
        "\n",
        "# Create the mesh\n",
        "cube = mesh.Mesh(np.zeros(faces_2.shape[0], dtype=mesh.Mesh.dtype))\n",
        "for i, f in enumerate(faces_2):\n",
        "    for j in range(3):\n",
        "        cube.vectors[i][j] = vertices_set_02[f[j],:]\n",
        "\n",
        "# Write the mesh to file \"faces_2.stl\"\n",
        "cube.save('faces_2.stl')"
      ],
      "metadata": {
        "id": "_ZotCLoqdCtY"
      },
      "execution_count": null,
      "outputs": []
    },
    {
      "cell_type": "code",
      "source": [
        "vertices_set_03=np.array([\\\n",
        "    [334,446,100],\n",
        "    [264,446,100],\n",
        "    [334,386,100],\n",
        "    [264,386,100] \n",
        "      \n",
        "])\n",
        "# Define the 2 triangles composing the first face\n",
        "faces_3 = np.array([\\\n",
        "    [0,2,1],\n",
        "    [1,2,3]])\n",
        "\n",
        "# Create the mesh\n",
        "cube = mesh.Mesh(np.zeros(faces_3.shape[0], dtype=mesh.Mesh.dtype))\n",
        "for i, f in enumerate(faces_3):\n",
        "    for j in range(3):\n",
        "        cube.vectors[i][j] = vertices_set_03[f[j],:]\n",
        "\n",
        "# Write the mesh to file \"faces_3.stl\"\n",
        "cube.save('faces_3.stl')"
      ],
      "metadata": {
        "id": "c24f_s4Zd1oo"
      },
      "execution_count": null,
      "outputs": []
    },
    {
      "cell_type": "code",
      "source": [
        "vertices_set_04=np.array([\\\n",
        "    [334,446,100],\n",
        "    [264,446,100],\n",
        "    [334,386,100],\n",
        "    [264,386,100] \n",
        "])\n",
        "faces_4 = np.array([\\\n",
        "    [0,2,1],\n",
        "    [1,2,3]])\n",
        "\n",
        "# Create the mesh\n",
        "cube = mesh.Mesh(np.zeros(faces_4.shape[0], dtype=mesh.Mesh.dtype))\n",
        "for i, f in enumerate(faces_4):\n",
        "    for j in range(3):\n",
        "        cube.vectors[i][j] = vertices_set_04[f[j],:]\n",
        "\n",
        "# Write the mesh to file \"faces_4.stl\"\n",
        "cube.save('faces_4.stl')"
      ],
      "metadata": {
        "id": "3drNs7QMedJA"
      },
      "execution_count": null,
      "outputs": []
    },
    {
      "cell_type": "code",
      "source": [
        "vertices_set_05=np.array([\\\n",
        "    [100,300,100],\n",
        "    [100,200,100],\n",
        "    [400,100,100],\n",
        "    [300,100,100],\n",
        "    [300,200,100],\n",
        "    [400,300,100]]) \n",
        " \n",
        "faces_5 = np.array([\\\n",
        "    [0,1,4],\n",
        "    [4,5,0],\n",
        "    [5,4,2],\n",
        "    [2,4,3]])\n",
        "\n",
        "# Create the mesh\n",
        "cube = mesh.Mesh(np.zeros(faces_5.shape[0], dtype=mesh.Mesh.dtype))\n",
        "for i, f in enumerate(faces_5):\n",
        "    for j in range(3):\n",
        "        cube.vectors[i][j] = vertices_set_05[f[j],:]\n",
        "\n",
        "# Write the mesh to file \"faces_5.stl\"\n",
        "cube.save('faces_5.stl')"
      ],
      "metadata": {
        "id": "BEXtCNl4gV0Y"
      },
      "execution_count": null,
      "outputs": []
    },
    {
      "cell_type": "code",
      "source": [
        "vertices_set_06=np.array([\\\n",
        "    [125,785,100],\n",
        "    [129,846,100],\n",
        "    [258,791,100],\n",
        "    [335,851,100],\n",
        "    [332,753,100],\n",
        "    [261,751,100]]) \n",
        " \n",
        "faces_6 = np.array([\\\n",
        "    [0,1,2],\n",
        "    [2,1,3],\n",
        "    [3,4,2],\n",
        "    [2,4,5]])\n",
        "\n",
        "# Create the mesh\n",
        "cube = mesh.Mesh(np.zeros(faces_6.shape[0], dtype=mesh.Mesh.dtype))\n",
        "for i, f in enumerate(faces_6):\n",
        "    for j in range(3):\n",
        "        cube.vectors[i][j] = vertices_set_06[f[j],:]\n",
        "        #print(i, j)\n",
        "\n",
        "# Write the mesh to file \"faces_6.stl\"\n",
        "cube.save('faces_6.stl')\n"
      ],
      "metadata": {
        "id": "wJFVhRYTosQU"
      },
      "execution_count": null,
      "outputs": []
    },
    {
      "cell_type": "code",
      "source": [
        "from scipy.spatial import Delaunay\n",
        "\n",
        "points = np.array([\n",
        "    [125,785],\n",
        "    [129,846],\n",
        "    [258,791],\n",
        "    [335,851],\n",
        "    [332,753],\n",
        "    [261,751]])\n",
        "\n",
        "tri = Delaunay(points)\n",
        "D_tri_to_faces = np.array(tri.simplices)\n",
        "\n",
        "# Slicing the array to remove unwanted edges generated during Delaunay trianglations\n",
        "D_tri_to_faces=D_tri_to_faces[1:,]      \n",
        "print(D_tri_to_faces)\n",
        "\n",
        "z = np.zeros((6,1))\n",
        "z[:,:]=100    #inserting z value on each index position\n",
        "\n",
        "new_points = np.append(points, z, axis=1)\n",
        "print(new_points)\n",
        "\n",
        "# Create the mesh\n",
        "cube = mesh.Mesh(np.zeros(D_tri_to_faces.shape[0], dtype=mesh.Mesh.dtype))\n",
        "for i, f in enumerate(D_tri_to_faces):\n",
        "    for j in range(3):\n",
        "        cube.vectors[i][j] = new_points[f[j],:]\n",
        "        #print(i, j)\n",
        "\n",
        "# Write the mesh to file \"cube.stl\"\n",
        "cube.save('faces_6.stl')\n",
        "\n",
        "import matplotlib.pyplot as plt\n",
        "plt.triplot(points[:,0], points[:,1], D_tri_to_faces)\n",
        "plt.plot(points[:,0], points[:,1], 'o')\n",
        "plt.show()\n"
      ],
      "metadata": {
        "colab": {
          "base_uri": "https://localhost:8080/",
          "height": 444
        },
        "id": "c8qHDt02bYjb",
        "outputId": "cbb34303-1c56-482d-85ec-196b85e7c140"
      },
      "execution_count": 4,
      "outputs": [
        {
          "output_type": "stream",
          "name": "stdout",
          "text": [
            "[[2 4 3]\n",
            " [4 2 5]\n",
            " [2 1 0]\n",
            " [1 2 3]]\n",
            "[[125. 785. 100.]\n",
            " [129. 846. 100.]\n",
            " [258. 791. 100.]\n",
            " [335. 851. 100.]\n",
            " [332. 753. 100.]\n",
            " [261. 751. 100.]]\n"
          ]
        },
        {
          "output_type": "display_data",
          "data": {
            "text/plain": [
              "<Figure size 432x288 with 1 Axes>"
            ],
            "image/png": "[encoded data removed]"
          },
          "metadata": {
            "needs_background": "light"
          }
        }
      ]
    },
    {
      "cell_type": "markdown",
      "source": [
        "Rotate surface-01 and then translate to the position of surface-06."
      ],
      "metadata": {
        "id": "p97gm2--1SrS"
      }
    },
    {
      "cell_type": "code",
      "source": [
        "import math\n",
        "\n",
        "def rotation_vertex(axis, theta):\n",
        "    \"\"\"\n",
        "    Return the rotation matrix associated with counterclockwise rotation about\n",
        "    the given axis by theta radians.\n",
        "    \"\"\"\n",
        "    axis = np.asarray(axis)\n",
        "    axis = axis / math.sqrt(np.dot(axis, axis))\n",
        "    a = math.cos(theta / 2.0)\n",
        "    b, c, d = -axis * math.sin(theta / 2.0)\n",
        "    aa, bb, cc, dd = a * a, b * b, c * c, d * d\n",
        "    bc, ad, ac, ab, bd, cd = b * c, a * d, a * c, a * b, b * d, c * d\n",
        "    return np.array([[aa + bb - cc - dd, 2 * (bc + ad), 2 * (bd - ac)],\n",
        "                     [2 * (bc - ad), aa + cc - bb - dd, 2 * (cd + ab)],\n",
        "                     [2 * (bd + ac), 2 * (cd - ab), aa + dd - bb - cc]])\n",
        "\n",
        "axis = [100, 4, 4]\n",
        "\n",
        "# 90° × π/180 = 1.571rad\n",
        "# 270° × π/180 = 4.712rad\n",
        "# 180° × π/180 = 3.142rad\n",
        "theta = 4.71239\n",
        "\n",
        "rp = []\n",
        "v = np.array([\n",
        "    [313,94,100],\n",
        "    [103,94,100],\n",
        "    [313,47,100],\n",
        "    [103,47,100]])\n",
        "\n",
        "for i in range(len(v)):\n",
        " #print(v[i])\n",
        "  one_point_rotated = np.dot(rotation_vertex(axis, theta), v[i])\n",
        "  #print(\"rotated points: \" , rotated_p) \n",
        "\n",
        "  rp.append(one_point_rotated)\n",
        "\n",
        "rotated_points = np.array(rp)\n",
        "print(rotated_points)\n",
        "\n",
        "copy_ = np.copy(rotated_points)\n",
        "#print(copy_)\n",
        "\n"
      ],
      "metadata": {
        "colab": {
          "base_uri": "https://localhost:8080/"
        },
        "id": "1hX2cHvcH7EP",
        "outputId": "ec144ffe-2fa0-4ced-e9ea-e3893db104f1"
      },
      "execution_count": 32,
      "outputs": [
        {
          "output_type": "stream",
          "name": "stdout",
          "text": [
            "[[319.49721832 100.12992352 -68.56038145]\n",
            " [110.16707409 100.14331848 -85.32017082]\n",
            " [315.74621784 100.05491554 -21.7103615 ]\n",
            " [106.41607361 100.06831051 -38.47015087]]\n"
          ]
        }
      ]
    },
    {
      "cell_type": "code",
      "source": [
        "tri = Delaunay(rotated_points[:, 0:2]) # discarding third column for 2d triangulation\n",
        "D_tri_to_faces = np.array(tri.simplices)\n",
        "\n",
        "\n",
        "# Create the mesh\n",
        "cube = mesh.Mesh(np.zeros(D_tri_to_faces.shape[0], dtype=mesh.Mesh.dtype))\n",
        "for i, f in enumerate(D_tri_to_faces):\n",
        "    for j in range(3):\n",
        "        cube.vectors[i][j] = copy_[f[j],:]\n",
        "        #print(i, j)\n",
        "\n",
        "# Write the mesh to file \"face_1.stl\"\n",
        "cube.save('face_1.stl')\n",
        "\n",
        "import matplotlib.pyplot as plt\n",
        "plt.triplot(points[:,0], points[:,1], D_tri_to_faces)\n",
        "plt.plot(points[:,0], points[:,1], 'o')\n",
        "plt.show()"
      ],
      "metadata": {
        "colab": {
          "base_uri": "https://localhost:8080/",
          "height": 265
        },
        "id": "_c3rig_AKxMk",
        "outputId": "02c85c27-e627-4207-ee3d-a4064c0d2301"
      },
      "execution_count": 33,
      "outputs": [
        {
          "output_type": "display_data",
          "data": {
            "text/plain": [
              "<Figure size 432x288 with 1 Axes>"
            ],
            "image/png": "[encoded data removed]"
          },
          "metadata": {
            "needs_background": "light"
          }
        }
      ]
    },
    {
      "cell_type": "code",
      "source": [
        "# numpy array slicing practicing\n",
        "z = np.zeros((4,3))\n",
        "z[:,0:2]=100\n",
        "print(z[:,0:2])\n"
      ],
      "metadata": {
        "colab": {
          "base_uri": "https://localhost:8080/"
        },
        "id": "o-TquU2ty4lc",
        "outputId": "b5bf742f-a9c1-47cb-afac-039055857b36"
      },
      "execution_count": 47,
      "outputs": [
        {
          "output_type": "stream",
          "name": "stdout",
          "text": [
            "[[100. 100.]\n",
            " [100. 100.]\n",
            " [100. 100.]\n",
            " [100. 100.]]\n"
          ]
        }
      ]
    }
  ]
}